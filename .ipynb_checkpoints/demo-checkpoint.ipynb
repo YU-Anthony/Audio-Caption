{
 "cells": [
  {
   "cell_type": "code",
   "execution_count": null,
   "id": "f7a17a4e-1d98-4400-8842-816108edc661",
   "metadata": {},
   "outputs": [
    {
     "name": "stdout",
     "output_type": "stream",
     "text": [
      "Running on local URL:  http://127.0.0.1:7861/\n",
      "\n",
      "To create a public link, set `share=True` in `launch()`.\n"
     ]
    },
    {
     "data": {
      "text/html": [
       "\n",
       "        <iframe\n",
       "            width=\"900\"\n",
       "            height=\"500\"\n",
       "            src=\"http://127.0.0.1:7861/\"\n",
       "            frameborder=\"0\"\n",
       "            allowfullscreen\n",
       "        ></iframe>\n",
       "        "
      ],
      "text/plain": [
       "<IPython.lib.display.IFrame at 0x7fd6984b7cd0>"
      ]
     },
     "metadata": {},
     "output_type": "display_data"
    },
    {
     "name": "stdout",
     "output_type": "stream",
     "text": [
      "/var/folders/f1/sf9d571j239344sv09s1sccm0000gn/T/test_00126cdhwx7y.wav\n",
      "/var/folders/f1/sf9d571j239344sv09s1sccm0000gn/T/test_0017gmc7lue5.wav\n"
     ]
    },
    {
     "name": "stderr",
     "output_type": "stream",
     "text": [
      "Traceback (most recent call last):\n",
      "  File \"/opt/anaconda3/lib/python3.8/site-packages/gradio/networking.py\", line 195, in predict\n",
      "    prediction, durations = app.interface.process(raw_input)\n",
      "  File \"/opt/anaconda3/lib/python3.8/site-packages/gradio/interface.py\", line 371, in process\n",
      "    predictions, durations = self.run_prediction(\n",
      "  File \"/opt/anaconda3/lib/python3.8/site-packages/gradio/interface.py\", line 337, in run_prediction\n",
      "    prediction = predict_fn(*processed_input)\n",
      "  File \"<ipython-input-1-fe52f4521e4a>\", line 12, in audioCaption\n",
      "    text = run_test(audio_data)\n",
      "  File \"/Users/admin/Desktop/Yu_ZHANG/UMP/demo/transfer.py\", line 53, in run_test\n",
      "    parser.add_argument('--device', type=str, default=hp.device)\n",
      "  File \"/opt/anaconda3/lib/python3.8/argparse.py\", line 1386, in add_argument\n",
      "    return self._add_action(action)\n",
      "  File \"/opt/anaconda3/lib/python3.8/argparse.py\", line 1749, in _add_action\n",
      "    self._optionals._add_action(action)\n",
      "  File \"/opt/anaconda3/lib/python3.8/argparse.py\", line 1590, in _add_action\n",
      "    action = super(_ArgumentGroup, self)._add_action(action)\n",
      "  File \"/opt/anaconda3/lib/python3.8/argparse.py\", line 1400, in _add_action\n",
      "    self._check_conflict(action)\n",
      "  File \"/opt/anaconda3/lib/python3.8/argparse.py\", line 1539, in _check_conflict\n",
      "    conflict_handler(action, confl_optionals)\n",
      "  File \"/opt/anaconda3/lib/python3.8/argparse.py\", line 1548, in _handle_conflict_error\n",
      "    raise ArgumentError(action, message % conflict_string)\n",
      "argparse.ArgumentError: argument --device: conflicting option string: --device\n"
     ]
    },
    {
     "name": "stdout",
     "output_type": "stream",
     "text": [
      "/var/folders/f1/sf9d571j239344sv09s1sccm0000gn/T/test_0003sk6khu9y.wav\n"
     ]
    },
    {
     "name": "stderr",
     "output_type": "stream",
     "text": [
      "Traceback (most recent call last):\n",
      "  File \"/opt/anaconda3/lib/python3.8/site-packages/gradio/networking.py\", line 195, in predict\n",
      "    prediction, durations = app.interface.process(raw_input)\n",
      "  File \"/opt/anaconda3/lib/python3.8/site-packages/gradio/interface.py\", line 371, in process\n",
      "    predictions, durations = self.run_prediction(\n",
      "  File \"/opt/anaconda3/lib/python3.8/site-packages/gradio/interface.py\", line 337, in run_prediction\n",
      "    prediction = predict_fn(*processed_input)\n",
      "  File \"<ipython-input-1-fe52f4521e4a>\", line 12, in audioCaption\n",
      "    text = run_test(audio_data)\n",
      "  File \"/Users/admin/Desktop/Yu_ZHANG/UMP/demo/transfer.py\", line 53, in run_test\n",
      "    parser.add_argument('--device', type=str, default=hp.device)\n",
      "  File \"/opt/anaconda3/lib/python3.8/argparse.py\", line 1386, in add_argument\n",
      "    return self._add_action(action)\n",
      "  File \"/opt/anaconda3/lib/python3.8/argparse.py\", line 1749, in _add_action\n",
      "    self._optionals._add_action(action)\n",
      "  File \"/opt/anaconda3/lib/python3.8/argparse.py\", line 1590, in _add_action\n",
      "    action = super(_ArgumentGroup, self)._add_action(action)\n",
      "  File \"/opt/anaconda3/lib/python3.8/argparse.py\", line 1400, in _add_action\n",
      "    self._check_conflict(action)\n",
      "  File \"/opt/anaconda3/lib/python3.8/argparse.py\", line 1539, in _check_conflict\n",
      "    conflict_handler(action, confl_optionals)\n",
      "  File \"/opt/anaconda3/lib/python3.8/argparse.py\", line 1548, in _handle_conflict_error\n",
      "    raise ArgumentError(action, message % conflict_string)\n",
      "argparse.ArgumentError: argument --device: conflicting option string: --device\n"
     ]
    },
    {
     "name": "stdout",
     "output_type": "stream",
     "text": [
      "/var/folders/f1/sf9d571j239344sv09s1sccm0000gn/T/test_028658ddtt2z.wav\n"
     ]
    },
    {
     "name": "stderr",
     "output_type": "stream",
     "text": [
      "Traceback (most recent call last):\n",
      "  File \"/opt/anaconda3/lib/python3.8/site-packages/gradio/networking.py\", line 195, in predict\n",
      "    prediction, durations = app.interface.process(raw_input)\n",
      "  File \"/opt/anaconda3/lib/python3.8/site-packages/gradio/interface.py\", line 371, in process\n",
      "    predictions, durations = self.run_prediction(\n",
      "  File \"/opt/anaconda3/lib/python3.8/site-packages/gradio/interface.py\", line 337, in run_prediction\n",
      "    prediction = predict_fn(*processed_input)\n",
      "  File \"<ipython-input-1-fe52f4521e4a>\", line 12, in audioCaption\n",
      "    text = run_test(audio_data)\n",
      "  File \"/Users/admin/Desktop/Yu_ZHANG/UMP/demo/transfer.py\", line 53, in run_test\n",
      "    parser.add_argument('--device', type=str, default=hp.device)\n",
      "  File \"/opt/anaconda3/lib/python3.8/argparse.py\", line 1386, in add_argument\n",
      "    return self._add_action(action)\n",
      "  File \"/opt/anaconda3/lib/python3.8/argparse.py\", line 1749, in _add_action\n",
      "    self._optionals._add_action(action)\n",
      "  File \"/opt/anaconda3/lib/python3.8/argparse.py\", line 1590, in _add_action\n",
      "    action = super(_ArgumentGroup, self)._add_action(action)\n",
      "  File \"/opt/anaconda3/lib/python3.8/argparse.py\", line 1400, in _add_action\n",
      "    self._check_conflict(action)\n",
      "  File \"/opt/anaconda3/lib/python3.8/argparse.py\", line 1539, in _check_conflict\n",
      "    conflict_handler(action, confl_optionals)\n",
      "  File \"/opt/anaconda3/lib/python3.8/argparse.py\", line 1548, in _handle_conflict_error\n",
      "    raise ArgumentError(action, message % conflict_string)\n",
      "argparse.ArgumentError: argument --device: conflicting option string: --device\n"
     ]
    },
    {
     "name": "stdout",
     "output_type": "stream",
     "text": [
      "/var/folders/f1/sf9d571j239344sv09s1sccm0000gn/T/test_02862nm5zb84.wav\n"
     ]
    },
    {
     "name": "stderr",
     "output_type": "stream",
     "text": [
      "Traceback (most recent call last):\n",
      "  File \"/opt/anaconda3/lib/python3.8/site-packages/gradio/networking.py\", line 195, in predict\n",
      "    prediction, durations = app.interface.process(raw_input)\n",
      "  File \"/opt/anaconda3/lib/python3.8/site-packages/gradio/interface.py\", line 371, in process\n",
      "    predictions, durations = self.run_prediction(\n",
      "  File \"/opt/anaconda3/lib/python3.8/site-packages/gradio/interface.py\", line 337, in run_prediction\n",
      "    prediction = predict_fn(*processed_input)\n",
      "  File \"<ipython-input-1-fe52f4521e4a>\", line 12, in audioCaption\n",
      "    text = run_test(audio_data)\n",
      "  File \"/Users/admin/Desktop/Yu_ZHANG/UMP/demo/transfer.py\", line 53, in run_test\n",
      "    parser.add_argument('--device', type=str, default=hp.device)\n",
      "  File \"/opt/anaconda3/lib/python3.8/argparse.py\", line 1386, in add_argument\n",
      "    return self._add_action(action)\n",
      "  File \"/opt/anaconda3/lib/python3.8/argparse.py\", line 1749, in _add_action\n",
      "    self._optionals._add_action(action)\n",
      "  File \"/opt/anaconda3/lib/python3.8/argparse.py\", line 1590, in _add_action\n",
      "    action = super(_ArgumentGroup, self)._add_action(action)\n",
      "  File \"/opt/anaconda3/lib/python3.8/argparse.py\", line 1400, in _add_action\n",
      "    self._check_conflict(action)\n",
      "  File \"/opt/anaconda3/lib/python3.8/argparse.py\", line 1539, in _check_conflict\n",
      "    conflict_handler(action, confl_optionals)\n",
      "  File \"/opt/anaconda3/lib/python3.8/argparse.py\", line 1548, in _handle_conflict_error\n",
      "    raise ArgumentError(action, message % conflict_string)\n",
      "argparse.ArgumentError: argument --device: conflicting option string: --device\n"
     ]
    }
   ],
   "source": [
    "import gradio as gr\n",
    "import torch\n",
    "import numpy as np\n",
    "from transfer import run_test\n",
    "from create_audio_npy import wav_to_mel\n",
    "from scipy.io.wavfile import write\n",
    "\n",
    "def audioCaption(audio_path):\n",
    "    \n",
    "#     print(audio_path)\n",
    "    audio_data = wav_to_mel(audio_path)\n",
    "    text = run_test(audio_data)\n",
    "    return text[0]\n",
    "\n",
    "\n",
    "title = \"Audio Caption\"\n",
    "description = \"Use CNN-Transformer architecture to generate the description of target audio.\"\n",
    "\n",
    "gr.Interface(\n",
    "    fn=audioCaption,\n",
    "    inputs=gr.inputs.Audio(source=\"upload\",type=\"filepath\", label=\"Input\"), \n",
    "    outputs=\"text\",\n",
    "    title=title,\n",
    "    description=description,\n",
    "    enable_queue=True\n",
    "    ).launch(debug=True)"
   ]
  },
  {
   "cell_type": "code",
   "execution_count": null,
   "id": "a652038f-a8a1-4a31-b7fa-2cdcc7e6d9ef",
   "metadata": {},
   "outputs": [],
   "source": []
  }
 ],
 "metadata": {
  "kernelspec": {
   "display_name": "Python 3",
   "language": "python",
   "name": "python3"
  },
  "language_info": {
   "codemirror_mode": {
    "name": "ipython",
    "version": 3
   },
   "file_extension": ".py",
   "mimetype": "text/x-python",
   "name": "python",
   "nbconvert_exporter": "python",
   "pygments_lexer": "ipython3",
   "version": "3.8.8"
  }
 },
 "nbformat": 4,
 "nbformat_minor": 5
}
