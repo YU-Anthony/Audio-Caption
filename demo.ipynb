{
 "cells": [
  {
   "cell_type": "code",
   "execution_count": 1,
   "id": "f7a17a4e-1d98-4400-8842-816108edc661",
   "metadata": {},
   "outputs": [
    {
     "name": "stdout",
     "output_type": "stream",
     "text": [
      "Running on local URL:  http://127.0.0.1:7860/\n",
      "\n",
      "To create a public link, set `share=True` in `launch()`.\n"
     ]
    },
    {
     "data": {
      "text/html": [
       "\n",
       "        <iframe\n",
       "            width=\"900\"\n",
       "            height=\"500\"\n",
       "            src=\"http://127.0.0.1:7860/\"\n",
       "            frameborder=\"0\"\n",
       "            allowfullscreen\n",
       "        ></iframe>\n",
       "        "
      ],
      "text/plain": [
       "<IPython.lib.display.IFrame at 0x7fb025fb2d90>"
      ]
     },
     "metadata": {},
     "output_type": "display_data"
    },
    {
     "name": "stdout",
     "output_type": "stream",
     "text": [
      "wav\n",
      "[-0.00357056 -0.00357056 -0.00314331 ...  0.01080322  0.00878906\n",
      "  0.00598145]\n",
      "feature\n",
      "[[ -2.8870668   -3.6465642   -8.03754    ... -24.517366   -24.216515\n",
      "  -26.89513   ]\n",
      " [ -1.4552233   -5.6185093  -10.693855   ... -14.600904   -15.804749\n",
      "  -22.625393  ]\n",
      " [ -0.83793724  -3.932997   -12.640507   ...  -9.09477    -10.106323\n",
      "  -16.501324  ]\n",
      " ...\n",
      " [ -1.7604897   -6.346311   -10.600911   ... -18.842241   -18.674356\n",
      "  -21.384895  ]\n",
      " [ -5.1173162  -10.043636   -11.038647   ... -22.854979   -22.805788\n",
      "  -25.034037  ]\n",
      " [ -8.227949   -15.960999    -8.865974   ... -23.780563   -24.345644\n",
      "  -26.278908  ]]\n"
     ]
    },
    {
     "ename": "KeyboardInterrupt",
     "evalue": "",
     "output_type": "error",
     "traceback": [
      "\u001b[0;31m---------------------------------------------------------------------------\u001b[0m",
      "\u001b[0;31mKeyboardInterrupt\u001b[0m                         Traceback (most recent call last)",
      "\u001b[0;32m<ipython-input-1-73ecadeb6e87>\u001b[0m in \u001b[0;36m<module>\u001b[0;34m\u001b[0m\n\u001b[1;32m     17\u001b[0m \u001b[0mdescription\u001b[0m \u001b[0;34m=\u001b[0m \u001b[0;34m\"Use CNN-Transformer architecture to generate the description of target audio.\"\u001b[0m\u001b[0;34m\u001b[0m\u001b[0;34m\u001b[0m\u001b[0m\n\u001b[1;32m     18\u001b[0m \u001b[0;34m\u001b[0m\u001b[0m\n\u001b[0;32m---> 19\u001b[0;31m gr.Interface(\n\u001b[0m\u001b[1;32m     20\u001b[0m     \u001b[0mfn\u001b[0m\u001b[0;34m=\u001b[0m\u001b[0maudioCaption\u001b[0m\u001b[0;34m,\u001b[0m\u001b[0;34m\u001b[0m\u001b[0;34m\u001b[0m\u001b[0m\n\u001b[1;32m     21\u001b[0m     \u001b[0minputs\u001b[0m\u001b[0;34m=\u001b[0m\u001b[0mgr\u001b[0m\u001b[0;34m.\u001b[0m\u001b[0minputs\u001b[0m\u001b[0;34m.\u001b[0m\u001b[0mAudio\u001b[0m\u001b[0;34m(\u001b[0m\u001b[0msource\u001b[0m\u001b[0;34m=\u001b[0m\u001b[0;34m\"upload\"\u001b[0m\u001b[0;34m,\u001b[0m\u001b[0mtype\u001b[0m\u001b[0;34m=\u001b[0m\u001b[0;34m\"filepath\"\u001b[0m\u001b[0;34m,\u001b[0m \u001b[0mlabel\u001b[0m\u001b[0;34m=\u001b[0m\u001b[0;34m\"Input\"\u001b[0m\u001b[0;34m)\u001b[0m\u001b[0;34m,\u001b[0m\u001b[0;34m\u001b[0m\u001b[0;34m\u001b[0m\u001b[0m\n",
      "\u001b[0;32m/opt/anaconda3/lib/python3.8/site-packages/gradio/interface.py\u001b[0m in \u001b[0;36mlaunch\u001b[0;34m(self, inline, inbrowser, share, debug, auth, auth_message, private_endpoint, prevent_thread_lock, show_error)\u001b[0m\n\u001b[1;32m    644\u001b[0m             \u001b[0;32mwhile\u001b[0m \u001b[0;32mTrue\u001b[0m\u001b[0;34m:\u001b[0m\u001b[0;34m\u001b[0m\u001b[0;34m\u001b[0m\u001b[0m\n\u001b[1;32m    645\u001b[0m                 \u001b[0msys\u001b[0m\u001b[0;34m.\u001b[0m\u001b[0mstdout\u001b[0m\u001b[0;34m.\u001b[0m\u001b[0mflush\u001b[0m\u001b[0;34m(\u001b[0m\u001b[0;34m)\u001b[0m\u001b[0;34m\u001b[0m\u001b[0;34m\u001b[0m\u001b[0m\n\u001b[0;32m--> 646\u001b[0;31m                 \u001b[0mtime\u001b[0m\u001b[0;34m.\u001b[0m\u001b[0msleep\u001b[0m\u001b[0;34m(\u001b[0m\u001b[0;36m0.1\u001b[0m\u001b[0;34m)\u001b[0m\u001b[0;34m\u001b[0m\u001b[0;34m\u001b[0m\u001b[0m\n\u001b[0m\u001b[1;32m    647\u001b[0m         is_in_interactive_mode = bool(\n\u001b[1;32m    648\u001b[0m             getattr(sys, 'ps1', sys.flags.interactive))\n",
      "\u001b[0;31mKeyboardInterrupt\u001b[0m: "
     ]
    },
    {
     "name": "stdout",
     "output_type": "stream",
     "text": [
      "wav\n",
      "[-0.00357056 -0.00357056 -0.00314331 ...  0.01080322  0.00878906\n",
      "  0.00598145]\n",
      "feature\n",
      "[[ -2.8870668   -3.6465642   -8.03754    ... -24.517366   -24.216515\n",
      "  -26.89513   ]\n",
      " [ -1.4552233   -5.6185093  -10.693855   ... -14.600904   -15.804749\n",
      "  -22.625393  ]\n",
      " [ -0.83793724  -3.932997   -12.640507   ...  -9.09477    -10.106323\n",
      "  -16.501324  ]\n",
      " ...\n",
      " [ -1.7604897   -6.346311   -10.600911   ... -18.842241   -18.674356\n",
      "  -21.384895  ]\n",
      " [ -5.1173162  -10.043636   -11.038647   ... -22.854979   -22.805788\n",
      "  -25.034037  ]\n",
      " [ -8.227949   -15.960999    -8.865974   ... -23.780563   -24.345644\n",
      "  -26.278908  ]]\n"
     ]
    }
   ],
   "source": [
    "import gradio as gr\n",
    "import torch\n",
    "import numpy as np\n",
    "from transfer import run_test\n",
    "from create_audio_npy import wav_to_mel\n",
    "from scipy.io.wavfile import write\n",
    "\n",
    "def audioCaption(audio_path):\n",
    "    \n",
    "#     print(audio_path)\n",
    "    audio_data = wav_to_mel(audio_path)\n",
    "    text = run_test(audio_data)\n",
    "    return text[0]\n",
    "\n",
    "\n",
    "title = \"Audio Caption\"\n",
    "description = \"Use CNN-Transformer architecture to generate the description of target audio.\"\n",
    "\n",
    "gr.Interface(\n",
    "    fn=audioCaption,\n",
    "    inputs=gr.inputs.Audio(source=\"upload\",type=\"filepath\", label=\"Input\"), \n",
    "    outputs=\"text\",\n",
    "    title=title,\n",
    "    description=description,\n",
    "    enable_queue=True\n",
    "    ).launch(debug=True)"
   ]
  },
  {
   "cell_type": "code",
   "execution_count": null,
   "id": "a652038f-a8a1-4a31-b7fa-2cdcc7e6d9ef",
   "metadata": {},
   "outputs": [],
   "source": []
  }
 ],
 "metadata": {
  "kernelspec": {
   "display_name": "Python 3",
   "language": "python",
   "name": "python3"
  },
  "language_info": {
   "codemirror_mode": {
    "name": "ipython",
    "version": 3
   },
   "file_extension": ".py",
   "mimetype": "text/x-python",
   "name": "python",
   "nbconvert_exporter": "python",
   "pygments_lexer": "ipython3",
   "version": "3.8.8"
  }
 },
 "nbformat": 4,
 "nbformat_minor": 5
}
